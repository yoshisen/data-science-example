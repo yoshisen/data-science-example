{
 "cells": [
  {
   "cell_type": "code",
   "execution_count": 1,
   "metadata": {
    "executionInfo": {
     "elapsed": 864,
     "status": "ok",
     "timestamp": 1675824191947,
     "user": {
      "displayName": "couple honest",
      "userId": "03102789480047740240"
     },
     "user_tz": -480
    },
    "id": "i3myB-YElLG6"
   },
   "outputs": [],
   "source": [
    "import pandas as pd\n",
    "import matplotlib.pyplot as plt\n",
    "import seaborn as sns\n",
    "%matplotlib inline"
   ]
  },
  {
   "cell_type": "code",
   "execution_count": 2,
   "metadata": {
    "executionInfo": {
     "elapsed": 322,
     "status": "ok",
     "timestamp": 1675824225279,
     "user": {
      "displayName": "couple honest",
      "userId": "03102789480047740240"
     },
     "user_tz": -480
    },
    "id": "vEIL3vC60GmV"
   },
   "outputs": [],
   "source": [
    "file_path = 'Regression_model_prediction_data.xlsx'\n",
    "sheet_name = 'tab'\n",
    "#ファイル\n",
    "df_excel = pd.read_excel(file_path, sheet_name=sheet_name, header=None)\n",
    "values = df_excel.values.tolist()\n",
    "\n",
    "df = pd.DataFrame(values[1:], columns=values[0])"
   ]
  },
  {
   "cell_type": "code",
   "execution_count": 3,
   "metadata": {
    "colab": {
     "base_uri": "https://localhost:8080/",
     "height": 400
    },
    "executionInfo": {
     "elapsed": 5,
     "status": "ok",
     "timestamp": 1675824225631,
     "user": {
      "displayName": "couple honest",
      "userId": "03102789480047740240"
     },
     "user_tz": -480
    },
    "id": "wuFoC4PHlLG-",
    "outputId": "8fe13dbe-e473-485e-d5d0-da656b95ea9e"
   },
   "outputs": [
    {
     "name": "stdout",
     "output_type": "stream",
     "text": [
      "<class 'pandas.core.frame.DataFrame'>\n",
      "RangeIndex: 2270 entries, 0 to 2269\n",
      "Data columns (total 6 columns):\n",
      " #   Column         Non-Null Count  Dtype \n",
      "---  ------         --------------  ----- \n",
      " 0   sku_id         2270 non-null   object\n",
      " 1   organic        2270 non-null   int64 \n",
      " 2   a_campaign     2270 non-null   int64 \n",
      " 3   b_campaign     2270 non-null   int64 \n",
      " 4   actual_amount  2270 non-null   int64 \n",
      " 5   item_id        2270 non-null   int64 \n",
      "dtypes: int64(5), object(1)\n",
      "memory usage: 106.5+ KB\n"
     ]
    },
    {
     "data": {
      "text/html": [
       "<div>\n",
       "<style scoped>\n",
       "    .dataframe tbody tr th:only-of-type {\n",
       "        vertical-align: middle;\n",
       "    }\n",
       "\n",
       "    .dataframe tbody tr th {\n",
       "        vertical-align: top;\n",
       "    }\n",
       "\n",
       "    .dataframe thead th {\n",
       "        text-align: right;\n",
       "    }\n",
       "</style>\n",
       "<table border=\"1\" class=\"dataframe\">\n",
       "  <thead>\n",
       "    <tr style=\"text-align: right;\">\n",
       "      <th></th>\n",
       "      <th>organic</th>\n",
       "      <th>a_campaign</th>\n",
       "      <th>b_campaign</th>\n",
       "      <th>actual_amount</th>\n",
       "      <th>item_id</th>\n",
       "    </tr>\n",
       "  </thead>\n",
       "  <tbody>\n",
       "    <tr>\n",
       "      <th>count</th>\n",
       "      <td>2270.000000</td>\n",
       "      <td>2270.000000</td>\n",
       "      <td>2270.000000</td>\n",
       "      <td>2270.000000</td>\n",
       "      <td>2.270000e+03</td>\n",
       "    </tr>\n",
       "    <tr>\n",
       "      <th>mean</th>\n",
       "      <td>3.102203</td>\n",
       "      <td>1.708370</td>\n",
       "      <td>4.811013</td>\n",
       "      <td>9.633480</td>\n",
       "      <td>1.619414e+09</td>\n",
       "    </tr>\n",
       "    <tr>\n",
       "      <th>std</th>\n",
       "      <td>13.876181</td>\n",
       "      <td>7.166193</td>\n",
       "      <td>19.229861</td>\n",
       "      <td>22.363371</td>\n",
       "      <td>4.480812e+08</td>\n",
       "    </tr>\n",
       "    <tr>\n",
       "      <th>min</th>\n",
       "      <td>-21.000000</td>\n",
       "      <td>0.000000</td>\n",
       "      <td>0.000000</td>\n",
       "      <td>1.000000</td>\n",
       "      <td>6.278897e+08</td>\n",
       "    </tr>\n",
       "    <tr>\n",
       "      <th>25%</th>\n",
       "      <td>0.000000</td>\n",
       "      <td>0.000000</td>\n",
       "      <td>0.000000</td>\n",
       "      <td>1.000000</td>\n",
       "      <td>1.258387e+09</td>\n",
       "    </tr>\n",
       "    <tr>\n",
       "      <th>50%</th>\n",
       "      <td>0.000000</td>\n",
       "      <td>0.000000</td>\n",
       "      <td>0.000000</td>\n",
       "      <td>3.000000</td>\n",
       "      <td>1.622723e+09</td>\n",
       "    </tr>\n",
       "    <tr>\n",
       "      <th>75%</th>\n",
       "      <td>0.000000</td>\n",
       "      <td>0.000000</td>\n",
       "      <td>0.000000</td>\n",
       "      <td>8.000000</td>\n",
       "      <td>2.004156e+09</td>\n",
       "    </tr>\n",
       "    <tr>\n",
       "      <th>max</th>\n",
       "      <td>294.000000</td>\n",
       "      <td>131.000000</td>\n",
       "      <td>366.000000</td>\n",
       "      <td>300.000000</td>\n",
       "      <td>2.537012e+09</td>\n",
       "    </tr>\n",
       "  </tbody>\n",
       "</table>\n",
       "</div>"
      ],
      "text/plain": [
       "           organic   a_campaign   b_campaign  actual_amount       item_id\n",
       "count  2270.000000  2270.000000  2270.000000    2270.000000  2.270000e+03\n",
       "mean      3.102203     1.708370     4.811013       9.633480  1.619414e+09\n",
       "std      13.876181     7.166193    19.229861      22.363371  4.480812e+08\n",
       "min     -21.000000     0.000000     0.000000       1.000000  6.278897e+08\n",
       "25%       0.000000     0.000000     0.000000       1.000000  1.258387e+09\n",
       "50%       0.000000     0.000000     0.000000       3.000000  1.622723e+09\n",
       "75%       0.000000     0.000000     0.000000       8.000000  2.004156e+09\n",
       "max     294.000000   131.000000   366.000000     300.000000  2.537012e+09"
      ]
     },
     "execution_count": 3,
     "metadata": {},
     "output_type": "execute_result"
    }
   ],
   "source": [
    "df.head()\n",
    "\n",
    "df.info()\n",
    "\n",
    "df.describe()"
   ]
  },
  {
   "cell_type": "code",
   "execution_count": 4,
   "metadata": {
    "colab": {
     "base_uri": "https://localhost:8080/"
    },
    "executionInfo": {
     "elapsed": 608,
     "status": "ok",
     "timestamp": 1675069932567,
     "user": {
      "displayName": "couple honest",
      "userId": "03102789480047740240"
     },
     "user_tz": -480
    },
    "id": "AetT1Eve0kee",
    "outputId": "cfb999ef-1587-46aa-9289-c075cbf9f77a"
   },
   "outputs": [
    {
     "name": "stdout",
     "output_type": "stream",
     "text": [
      "<class 'pandas.core.frame.DataFrame'>\n",
      "RangeIndex: 2270 entries, 0 to 2269\n",
      "Data columns (total 6 columns):\n",
      " #   Column         Non-Null Count  Dtype  \n",
      "---  ------         --------------  -----  \n",
      " 0   sku_id         2270 non-null   object \n",
      " 1   organic        2270 non-null   float64\n",
      " 2   a_campaign     2270 non-null   float64\n",
      " 3   b_campaign     2270 non-null   float64\n",
      " 4   actual_amount  2270 non-null   float64\n",
      " 5   item_id        2270 non-null   int64  \n",
      "dtypes: float64(4), int64(1), object(1)\n",
      "memory usage: 106.5+ KB\n"
     ]
    }
   ],
   "source": [
    "df[\"organic\"] = df[\"organic\"].astype(\"float\")\n",
    "df[\"a_campaign\"] = df[\"a_campaign\"].astype(\"float\")\n",
    "df[\"b_campaign\"] = df[\"b_campaign\"].astype(\"float\")\n",
    "df[\"actual_amount\"] = df[\"actual_amount\"].astype(\"float\")\n",
    "df.info()"
   ]
  },
  {
   "cell_type": "code",
   "execution_count": 7,
   "metadata": {
    "colab": {
     "base_uri": "https://localhost:8080/"
    },
    "executionInfo": {
     "elapsed": 376,
     "status": "ok",
     "timestamp": 1675072917420,
     "user": {
      "displayName": "couple honest",
      "userId": "03102789480047740240"
     },
     "user_tz": -480
    },
    "id": "I7zTWkdglLG_",
    "outputId": "b29bafca-af39-4be1-a8fb-d035ba7f9954"
   },
   "outputs": [
    {
     "name": "stdout",
     "output_type": "stream",
     "text": [
      "4.241541648836823\n",
      "[0.90758807 1.04525067 0.21543812]\n",
      "                Coef\n",
      "organic     0.907588\n",
      "a_campaign  1.045251\n",
      "b_campaign  0.215438\n"
     ]
    }
   ],
   "source": [
    "df.columns\n",
    "\n",
    "X = df[['organic', 'a_campaign', 'b_campaign']]\n",
    "y = df['actual_amount']\n",
    "\n",
    "from sklearn.model_selection import train_test_split\n",
    "\n",
    "X_train, X_test, y_train, y_test = train_test_split(X, y, test_size=0.3, random_state=101)\n",
    "#モデル構築\n",
    "from sklearn.linear_model import LinearRegression\n",
    "lm = LinearRegression()\n",
    "lm.fit(X_train,y_train)\n",
    "\n",
    "print(lm.intercept_)\n",
    "print(lm.coef_)\n",
    "\n",
    "X_train.columns\n",
    "cdf = pd.DataFrame(lm.coef_,X_train.columns,columns=['Coef'])\n",
    "print(cdf)"
   ]
  },
  {
   "cell_type": "code",
   "execution_count": 27,
   "metadata": {},
   "outputs": [
    {
     "data": {
      "image/png": "[encoded data removed]",
      "text/plain": [
       "<Figure size 640x480 with 1 Axes>"
      ]
     },
     "metadata": {},
     "output_type": "display_data"
    }
   ],
   "source": [
    "import numpy as np\n",
    "from matplotlib import rcParams\n",
    "\n",
    "rcParams['font.family'] = 'Meiryo'\n",
    "\n",
    "# lm.intercept_ は切片、lm.coef_ は係数（配列）\n",
    "# 線形回帰のフィット直線を描画\n",
    "x1 = np.linspace(X_train.min(), X_train.max(), 100)  # x 軸の範囲を生成\n",
    "y1 = lm.intercept_ + lm.coef_[0] * x1  # organic切片と傾きで直線の y 値を計算\n",
    "plt.plot(x1, y1, color='red')  # 直線を追加\n",
    "\n",
    "# 凡例とタイトルを追加\n",
    "plt.xlabel('実測値')\n",
    "plt.ylabel('予測値')\n",
    "plt.title('線形回帰の散布図と回帰直線')\n",
    "plt.show()"
   ]
  },
  {
   "cell_type": "code",
   "execution_count": 13,
   "metadata": {
    "colab": {
     "base_uri": "https://localhost:8080/",
     "height": 354
    },
    "executionInfo": {
     "elapsed": 4,
     "status": "ok",
     "timestamp": 1675069962548,
     "user": {
      "displayName": "couple honest",
      "userId": "03102789480047740240"
     },
     "user_tz": -480
    },
    "id": "ODE2aG-flLHA",
    "outputId": "af315c63-4468-44b2-ea43-08cb629fa8ff"
   },
   "outputs": [
    {
     "name": "stderr",
     "output_type": "stream",
     "text": [
      "c:\\Users\\awse\\anaconda3\\envs\\dataSci\\lib\\site-packages\\seaborn\\axisgrid.py:123: UserWarning: The figure layout has changed to tight\n",
      "  self._figure.tight_layout(*args, **kwargs)\n"
     ]
    },
    {
     "data": {
      "text/plain": [
       "<seaborn.axisgrid.FacetGrid at 0x2254d330af0>"
      ]
     },
     "execution_count": 13,
     "metadata": {},
     "output_type": "execute_result"
    },
    {
     "data": {
      "image/png": "[encoded data removed]",
      "text/plain": [
       "<Figure size 500x500 with 1 Axes>"
      ]
     },
     "metadata": {},
     "output_type": "display_data"
    }
   ],
   "source": [
    "predictions = lm.predict(X_test)\n",
    "predictions\n",
    "sns.displot((y_test-predictions))"
   ]
  },
  {
   "cell_type": "code",
   "execution_count": 19,
   "metadata": {},
   "outputs": [
    {
     "data": {
      "text/plain": [
       "<matplotlib.collections.PathCollection at 0x2254fe33640>"
      ]
     },
     "execution_count": 19,
     "metadata": {},
     "output_type": "execute_result"
    },
    {
     "data": {
      "image/png": "[encoded data removed]",
      "text/plain": [
       "<Figure size 640x480 with 1 Axes>"
      ]
     },
     "metadata": {},
     "output_type": "display_data"
    }
   ],
   "source": [
    "# 散布図を描画\n",
    "plt.scatter(y_test, predictions, color='blue')"
   ]
  },
  {
   "cell_type": "code",
   "execution_count": 24,
   "metadata": {
    "colab": {
     "base_uri": "https://localhost:8080/",
     "height": 202
    },
    "executionInfo": {
     "elapsed": 8,
     "status": "error",
     "timestamp": 1675757649006,
     "user": {
      "displayName": "couple honest",
      "userId": "03102789480047740240"
     },
     "user_tz": -480
    },
    "id": "f5FjfssPlLHB",
    "outputId": "b38a7d31-42d9-46ee-ef31-655c165eee90"
   },
   "outputs": [
    {
     "name": "stdout",
     "output_type": "stream",
     "text": [
      "決定係数 (R²): 0.6222236041919436\n"
     ]
    }
   ],
   "source": [
    "#決定係数\n",
    "from sklearn.metrics import r2_score\n",
    "\n",
    "# 実際の値 (y_test) と予測値 (predictions)\n",
    "r2 = r2_score(y_test, predictions)\n",
    "print(f\"決定係数 (R²): {r2}\")\n"
   ]
  }
 ],
 "metadata": {
  "colab": {
   "provenance": []
  },
  "kernelspec": {
   "display_name": "dataSci",
   "language": "python",
   "name": "python3"
  },
  "language_info": {
   "codemirror_mode": {
    "name": "ipython",
    "version": 3
   },
   "file_extension": ".py",
   "mimetype": "text/x-python",
   "name": "python",
   "nbconvert_exporter": "python",
   "pygments_lexer": "ipython3",
   "version": "3.8.20"
  }
 },
 "nbformat": 4,
 "nbformat_minor": 0
}
