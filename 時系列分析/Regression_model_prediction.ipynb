{
 "cells": [
  {
   "cell_type": "code",
   "execution_count": 1,
   "metadata": {
    "executionInfo": {
     "elapsed": 864,
     "status": "ok",
     "timestamp": 1675824191947,
     "user": {
      "displayName": "couple honest",
      "userId": "03102789480047740240"
     },
     "user_tz": -480
    },
    "id": "i3myB-YElLG6"
   },
   "outputs": [],
   "source": [
    "import pandas as pd\n",
    "import numpy as np\n",
    "import matplotlib.pyplot as plt\n",
    "import seaborn as sns\n",
    "%matplotlib inline\n",
    "import csv"
   ]
  },
  {
   "cell_type": "code",
   "execution_count": null,
   "metadata": {
    "colab": {
     "base_uri": "https://localhost:8080/"
    },
    "executionInfo": {
     "elapsed": 349,
     "status": "ok",
     "timestamp": 1675824209138,
     "user": {
      "displayName": "couple honest",
      "userId": "03102789480047740240"
     },
     "user_tz": -480
    },
    "id": "Usozb7eayQeN",
    "outputId": "f81441ab-c328-46ce-dff1-0190328cd89f"
   },
   "outputs": [],
   "source": [
    "import gspread\n",
    "print(gspread.__version__)"
   ]
  },
  {
   "cell_type": "code",
   "execution_count": 3,
   "metadata": {
    "executionInfo": {
     "elapsed": 13419,
     "status": "ok",
     "timestamp": 1675824223716,
     "user": {
      "displayName": "couple honest",
      "userId": "03102789480047740240"
     },
     "user_tz": -480
    },
    "id": "yoQXQ0fpyTnt"
   },
   "outputs": [],
   "source": [
    "from google.colab import auth\n",
    "auth.authenticate_user()\n",
    "\n",
    "import gspread\n",
    "from google.auth import default\n",
    "creds, _ = default()\n",
    "\n",
    "gc = gspread.authorize(creds)"
   ]
  },
  {
   "cell_type": "code",
   "execution_count": 4,
   "metadata": {
    "executionInfo": {
     "elapsed": 5,
     "status": "ok",
     "timestamp": 1675824223716,
     "user": {
      "displayName": "couple honest",
      "userId": "03102789480047740240"
     },
     "user_tz": -480
    },
    "id": "BrvTDQnyyVMs"
   },
   "outputs": [],
   "source": [
    "workbook = gc.open_by_key('xxxxxxxxxxxxxxxxxxxxxxxxxxxx')"
   ]
  },
  {
   "cell_type": "code",
   "execution_count": 5,
   "metadata": {
    "executionInfo": {
     "elapsed": 1249,
     "status": "ok",
     "timestamp": 1675824224961,
     "user": {
      "displayName": "couple honest",
      "userId": "03102789480047740240"
     },
     "user_tz": -480
    },
    "id": "46Xon4yBybWL"
   },
   "outputs": [],
   "source": [
    "sheet = workbook.worksheet('tab')\n",
    "\n",
    "# sheet.get_all_records()\n",
    "\n",
    "# sheet.get_all_values()"
   ]
  },
  {
   "cell_type": "code",
   "execution_count": 6,
   "metadata": {
    "executionInfo": {
     "elapsed": 322,
     "status": "ok",
     "timestamp": 1675824225279,
     "user": {
      "displayName": "couple honest",
      "userId": "03102789480047740240"
     },
     "user_tz": -480
    },
    "id": "vEIL3vC60GmV"
   },
   "outputs": [],
   "source": [
    "import pandas as pd\n",
    "values = sheet.get_all_values()\n",
    "df = pd.DataFrame(values[1:], columns=values[0])"
   ]
  },
  {
   "cell_type": "code",
   "execution_count": null,
   "metadata": {
    "colab": {
     "base_uri": "https://localhost:8080/",
     "height": 400
    },
    "executionInfo": {
     "elapsed": 5,
     "status": "ok",
     "timestamp": 1675824225631,
     "user": {
      "displayName": "couple honest",
      "userId": "03102789480047740240"
     },
     "user_tz": -480
    },
    "id": "wuFoC4PHlLG-",
    "outputId": "8fe13dbe-e473-485e-d5d0-da656b95ea9e"
   },
   "outputs": [],
   "source": [
    "df.head()\n",
    "\n",
    "df.info()\n",
    "\n",
    "df.describe()"
   ]
  },
  {
   "cell_type": "code",
   "execution_count": null,
   "metadata": {
    "colab": {
     "base_uri": "https://localhost:8080/"
    },
    "executionInfo": {
     "elapsed": 608,
     "status": "ok",
     "timestamp": 1675069932567,
     "user": {
      "displayName": "couple honest",
      "userId": "03102789480047740240"
     },
     "user_tz": -480
    },
    "id": "AetT1Eve0kee",
    "outputId": "cfb999ef-1587-46aa-9289-c075cbf9f77a"
   },
   "outputs": [],
   "source": [
    "df[\"organic\"] = df[\"organic\"].astype(\"float\")\n",
    "df[\"a_campaign\"] = df[\"a_campaign\"].astype(\"float\")\n",
    "df[\"b_campaign\"] = df[\"b_campaign\"].astype(\"float\")\n",
    "df[\"actual_amount\"] = df[\"actual_amount\"].astype(\"float\")\n",
    "df.info()"
   ]
  },
  {
   "cell_type": "code",
   "execution_count": null,
   "metadata": {
    "colab": {
     "base_uri": "https://localhost:8080/"
    },
    "executionInfo": {
     "elapsed": 376,
     "status": "ok",
     "timestamp": 1675072917420,
     "user": {
      "displayName": "couple honest",
      "userId": "03102789480047740240"
     },
     "user_tz": -480
    },
    "id": "I7zTWkdglLG_",
    "outputId": "b29bafca-af39-4be1-a8fb-d035ba7f9954"
   },
   "outputs": [],
   "source": [
    "df.columns\n",
    "\n",
    "X = df[['organic', 'a_campaign', 'b_campaign']]\n",
    "y = df['actual_amount']\n",
    "\n",
    "from sklearn.model_selection import train_test_split\n",
    "\n",
    "X_train, X_test, y_train, y_test = train_test_split(X, y, test_size=0.3, random_state=101)\n",
    "\n",
    "from sklearn.linear_model import LinearRegression\n",
    "lm = LinearRegression()\n",
    "lm.fit(X_train,y_train)\n",
    "\n",
    "print(lm.intercept_)\n",
    "\n",
    "lm.coef_\n",
    "\n",
    "X_train.columns\n",
    "cdf = pd.DataFrame(lm.coef_,X_train.columns,columns=['Coef'])\n",
    "print(cdf)"
   ]
  },
  {
   "cell_type": "code",
   "execution_count": null,
   "metadata": {
    "colab": {
     "base_uri": "https://localhost:8080/",
     "height": 282
    },
    "executionInfo": {
     "elapsed": 472,
     "status": "ok",
     "timestamp": 1675073170680,
     "user": {
      "displayName": "couple honest",
      "userId": "03102789480047740240"
     },
     "user_tz": -480
    },
    "id": "7X9PPNqLI6j9",
    "outputId": "8535089a-7a75-4cca-f02a-bd28fec3c1a0"
   },
   "outputs": [],
   "source": [
    "plt.scatter(y_test,predictions)"
   ]
  },
  {
   "cell_type": "code",
   "execution_count": null,
   "metadata": {
    "colab": {
     "base_uri": "https://localhost:8080/",
     "height": 354
    },
    "executionInfo": {
     "elapsed": 4,
     "status": "ok",
     "timestamp": 1675069962548,
     "user": {
      "displayName": "couple honest",
      "userId": "03102789480047740240"
     },
     "user_tz": -480
    },
    "id": "ODE2aG-flLHA",
    "outputId": "af315c63-4468-44b2-ea43-08cb629fa8ff"
   },
   "outputs": [],
   "source": [
    "predictions = lm.predict(X_test)\n",
    "predictions\n",
    "sns.distplot((y_test-predictions))"
   ]
  },
  {
   "cell_type": "code",
   "execution_count": null,
   "metadata": {
    "colab": {
     "base_uri": "https://localhost:8080/",
     "height": 202
    },
    "executionInfo": {
     "elapsed": 8,
     "status": "error",
     "timestamp": 1675757649006,
     "user": {
      "displayName": "couple honest",
      "userId": "03102789480047740240"
     },
     "user_tz": -480
    },
    "id": "f5FjfssPlLHB",
    "outputId": "b38a7d31-42d9-46ee-ef31-655c165eee90"
   },
   "outputs": [],
   "source": [
    "r2 = lm.score(X_test,y_test)  \n",
    "print ('R^2 = %.2f'%r2)  "
   ]
  }
 ],
 "metadata": {
  "colab": {
   "provenance": []
  },
  "kernelspec": {
   "display_name": "Python 3",
   "language": "python",
   "name": "python3"
  },
  "language_info": {
   "codemirror_mode": {
    "name": "ipython",
    "version": 3
   },
   "file_extension": ".py",
   "mimetype": "text/x-python",
   "name": "python",
   "nbconvert_exporter": "python",
   "pygments_lexer": "ipython3",
   "version": "3.7.4"
  }
 },
 "nbformat": 4,
 "nbformat_minor": 0
}
