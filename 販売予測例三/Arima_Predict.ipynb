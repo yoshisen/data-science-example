{
 "cells": [
  {
   "cell_type": "code",
   "execution_count": 1,
   "metadata": {},
   "outputs": [],
   "source": [
    "import pandas as pd\n",
    "import numpy as np\n",
    "import csv\n",
    "import time\n",
    "from datetime import datetime"
   ]
  },
  {
   "cell_type": "raw",
   "metadata": {
    "vscode": {
     "languageId": "raw"
    }
   },
   "source": [
    "データを読み込む"
   ]
  },
  {
   "cell_type": "code",
   "execution_count": 2,
   "metadata": {},
   "outputs": [],
   "source": [
    "g=open('sales.csv',encoding='utf-8')\n",
    "data=pd.read_csv(g)\n",
    "g.close()"
   ]
  },
  {
   "cell_type": "code",
   "execution_count": 3,
   "metadata": {},
   "outputs": [
    {
     "data": {
      "text/html": [
       "<div>\n",
       "<style scoped>\n",
       "    .dataframe tbody tr th:only-of-type {\n",
       "        vertical-align: middle;\n",
       "    }\n",
       "\n",
       "    .dataframe tbody tr th {\n",
       "        vertical-align: top;\n",
       "    }\n",
       "\n",
       "    .dataframe thead th {\n",
       "        text-align: right;\n",
       "    }\n",
       "</style>\n",
       "<table border=\"1\" class=\"dataframe\">\n",
       "  <thead>\n",
       "    <tr style=\"text-align: right;\">\n",
       "      <th></th>\n",
       "      <th>date</th>\n",
       "      <th>amount</th>\n",
       "    </tr>\n",
       "  </thead>\n",
       "  <tbody>\n",
       "    <tr>\n",
       "      <th>0</th>\n",
       "      <td>2023/1/1</td>\n",
       "      <td>589</td>\n",
       "    </tr>\n",
       "    <tr>\n",
       "      <th>1</th>\n",
       "      <td>2023/1/2</td>\n",
       "      <td>561</td>\n",
       "    </tr>\n",
       "    <tr>\n",
       "      <th>2</th>\n",
       "      <td>2023/1/3</td>\n",
       "      <td>640</td>\n",
       "    </tr>\n",
       "    <tr>\n",
       "      <th>3</th>\n",
       "      <td>2023/1/4</td>\n",
       "      <td>656</td>\n",
       "    </tr>\n",
       "    <tr>\n",
       "      <th>4</th>\n",
       "      <td>2023/1/5</td>\n",
       "      <td>727</td>\n",
       "    </tr>\n",
       "  </tbody>\n",
       "</table>\n",
       "</div>"
      ],
      "text/plain": [
       "       date  amount\n",
       "0  2023/1/1     589\n",
       "1  2023/1/2     561\n",
       "2  2023/1/3     640\n",
       "3  2023/1/4     656\n",
       "4  2023/1/5     727"
      ]
     },
     "execution_count": 3,
     "metadata": {},
     "output_type": "execute_result"
    }
   ],
   "source": [
    "data.head()"
   ]
  },
  {
   "cell_type": "code",
   "execution_count": 4,
   "metadata": {},
   "outputs": [
    {
     "data": {
      "text/plain": [
       "date      False\n",
       "amount    False\n",
       "dtype: bool"
      ]
     },
     "execution_count": 4,
     "metadata": {},
     "output_type": "execute_result"
    }
   ],
   "source": [
    "data.isnull().any()"
   ]
  },
  {
   "cell_type": "code",
   "execution_count": 5,
   "metadata": {},
   "outputs": [
    {
     "data": {
      "text/plain": [
       "168"
      ]
     },
     "execution_count": 5,
     "metadata": {},
     "output_type": "execute_result"
    }
   ],
   "source": [
    "len(data)"
   ]
  },
  {
   "cell_type": "raw",
   "metadata": {
    "vscode": {
     "languageId": "raw"
    }
   },
   "source": [
    "訓練データとテストデータを分割する"
   ]
  },
  {
   "cell_type": "code",
   "execution_count": 6,
   "metadata": {},
   "outputs": [],
   "source": [
    "train=data[0:163]\n",
    "test=data[163:168]"
   ]
  },
  {
   "cell_type": "code",
   "execution_count": 7,
   "metadata": {},
   "outputs": [
    {
     "data": {
      "text/html": [
       "<div>\n",
       "<style scoped>\n",
       "    .dataframe tbody tr th:only-of-type {\n",
       "        vertical-align: middle;\n",
       "    }\n",
       "\n",
       "    .dataframe tbody tr th {\n",
       "        vertical-align: top;\n",
       "    }\n",
       "\n",
       "    .dataframe thead th {\n",
       "        text-align: right;\n",
       "    }\n",
       "</style>\n",
       "<table border=\"1\" class=\"dataframe\">\n",
       "  <thead>\n",
       "    <tr style=\"text-align: right;\">\n",
       "      <th></th>\n",
       "      <th>date</th>\n",
       "      <th>amount</th>\n",
       "    </tr>\n",
       "  </thead>\n",
       "  <tbody>\n",
       "    <tr>\n",
       "      <th>163</th>\n",
       "      <td>2023/6/13</td>\n",
       "      <td>858</td>\n",
       "    </tr>\n",
       "    <tr>\n",
       "      <th>164</th>\n",
       "      <td>2023/6/14</td>\n",
       "      <td>817</td>\n",
       "    </tr>\n",
       "    <tr>\n",
       "      <th>165</th>\n",
       "      <td>2023/6/15</td>\n",
       "      <td>827</td>\n",
       "    </tr>\n",
       "    <tr>\n",
       "      <th>166</th>\n",
       "      <td>2023/6/16</td>\n",
       "      <td>797</td>\n",
       "    </tr>\n",
       "    <tr>\n",
       "      <th>167</th>\n",
       "      <td>2023/6/17</td>\n",
       "      <td>843</td>\n",
       "    </tr>\n",
       "  </tbody>\n",
       "</table>\n",
       "</div>"
      ],
      "text/plain": [
       "          date  amount\n",
       "163  2023/6/13     858\n",
       "164  2023/6/14     817\n",
       "165  2023/6/15     827\n",
       "166  2023/6/16     797\n",
       "167  2023/6/17     843"
      ]
     },
     "execution_count": 7,
     "metadata": {},
     "output_type": "execute_result"
    }
   ],
   "source": [
    "test"
   ]
  },
  {
   "cell_type": "raw",
   "metadata": {
    "vscode": {
     "languageId": "raw"
    }
   },
   "source": [
    "インデックスを命名する"
   ]
  },
  {
   "cell_type": "code",
   "execution_count": 8,
   "metadata": {},
   "outputs": [
    {
     "name": "stderr",
     "output_type": "stream",
     "text": [
      "C:\\Users\\awse\\AppData\\Local\\Temp\\ipykernel_13472\\4292401529.py:1: SettingWithCopyWarning: \n",
      "A value is trying to be set on a copy of a slice from a DataFrame.\n",
      "Try using .loc[row_indexer,col_indexer] = value instead\n",
      "\n",
      "See the caveats in the documentation: https://pandas.pydata.org/pandas-docs/stable/user_guide/indexing.html#returning-a-view-versus-a-copy\n",
      "  train['date'] = pd.to_datetime(train['date'])  # 'date' 列を日時型に変換する\n"
     ]
    }
   ],
   "source": [
    "train['date'] = pd.to_datetime(train['date'])  # 'date' 列を日時型に変換する\n",
    "train.set_index(['date'], inplace=True)"
   ]
  },
  {
   "cell_type": "code",
   "execution_count": 9,
   "metadata": {},
   "outputs": [
    {
     "data": {
      "text/plain": [
       "163"
      ]
     },
     "execution_count": 9,
     "metadata": {},
     "output_type": "execute_result"
    }
   ],
   "source": [
    "len(train)"
   ]
  },
  {
   "cell_type": "code",
   "execution_count": 10,
   "metadata": {},
   "outputs": [
    {
     "data": {
      "text/plain": [
       "amount    int64\n",
       "dtype: object"
      ]
     },
     "execution_count": 10,
     "metadata": {},
     "output_type": "execute_result"
    }
   ],
   "source": [
    "train.dtypes"
   ]
  },
  {
   "cell_type": "code",
   "execution_count": 11,
   "metadata": {},
   "outputs": [
    {
     "data": {
      "text/html": [
       "<div>\n",
       "<style scoped>\n",
       "    .dataframe tbody tr th:only-of-type {\n",
       "        vertical-align: middle;\n",
       "    }\n",
       "\n",
       "    .dataframe tbody tr th {\n",
       "        vertical-align: top;\n",
       "    }\n",
       "\n",
       "    .dataframe thead th {\n",
       "        text-align: right;\n",
       "    }\n",
       "</style>\n",
       "<table border=\"1\" class=\"dataframe\">\n",
       "  <thead>\n",
       "    <tr style=\"text-align: right;\">\n",
       "      <th></th>\n",
       "      <th>amount</th>\n",
       "    </tr>\n",
       "    <tr>\n",
       "      <th>date</th>\n",
       "      <th></th>\n",
       "    </tr>\n",
       "  </thead>\n",
       "  <tbody>\n",
       "    <tr>\n",
       "      <th>2023-01-01</th>\n",
       "      <td>589</td>\n",
       "    </tr>\n",
       "    <tr>\n",
       "      <th>2023-01-02</th>\n",
       "      <td>561</td>\n",
       "    </tr>\n",
       "    <tr>\n",
       "      <th>2023-01-03</th>\n",
       "      <td>640</td>\n",
       "    </tr>\n",
       "    <tr>\n",
       "      <th>2023-01-04</th>\n",
       "      <td>656</td>\n",
       "    </tr>\n",
       "    <tr>\n",
       "      <th>2023-01-05</th>\n",
       "      <td>727</td>\n",
       "    </tr>\n",
       "  </tbody>\n",
       "</table>\n",
       "</div>"
      ],
      "text/plain": [
       "            amount\n",
       "date              \n",
       "2023-01-01     589\n",
       "2023-01-02     561\n",
       "2023-01-03     640\n",
       "2023-01-04     656\n",
       "2023-01-05     727"
      ]
     },
     "execution_count": 11,
     "metadata": {},
     "output_type": "execute_result"
    }
   ],
   "source": [
    "train.head()"
   ]
  },
  {
   "cell_type": "code",
   "execution_count": 12,
   "metadata": {},
   "outputs": [
    {
     "data": {
      "text/plain": [
       "DatetimeIndex(['2023-01-01', '2023-01-02', '2023-01-03', '2023-01-04',\n",
       "               '2023-01-05', '2023-01-06', '2023-01-07', '2023-01-08',\n",
       "               '2023-01-09', '2023-01-10',\n",
       "               ...\n",
       "               '2023-06-03', '2023-06-04', '2023-06-05', '2023-06-06',\n",
       "               '2023-06-07', '2023-06-08', '2023-06-09', '2023-06-10',\n",
       "               '2023-06-11', '2023-06-12'],\n",
       "              dtype='datetime64[ns]', name='date', length=163, freq=None)"
      ]
     },
     "execution_count": 12,
     "metadata": {},
     "output_type": "execute_result"
    }
   ],
   "source": [
    "train.index"
   ]
  },
  {
   "cell_type": "raw",
   "metadata": {
    "vscode": {
     "languageId": "raw"
    }
   },
   "source": [
    "時系列グラフを描く"
   ]
  },
  {
   "cell_type": "code",
   "execution_count": 13,
   "metadata": {},
   "outputs": [
    {
     "data": {
      "image/png": "[encoded data removed]",
      "text/plain": [
       "<Figure size 640x480 with 1 Axes>"
      ]
     },
     "metadata": {},
     "output_type": "display_data"
    }
   ],
   "source": [
    "import matplotlib.pyplot as plt\n",
    "plt.rcParams['font.sans-serif'] = ['MS Gothic'] \n",
    "plt.rcParams['axes.unicode_minus'] = False \n",
    "train.plot()\n",
    "plt.show()"
   ]
  },
  {
   "cell_type": "raw",
   "metadata": {
    "vscode": {
     "languageId": "raw"
    }
   },
   "source": [
    "自己相関図"
   ]
  },
  {
   "cell_type": "code",
   "execution_count": 14,
   "metadata": {},
   "outputs": [
    {
     "name": "stderr",
     "output_type": "stream",
     "text": [
      "C:\\Users\\awse\\AppData\\Local\\Temp\\ipykernel_13472\\3025598522.py:2: UserWarning: Matplotlib is currently using module://matplotlib_inline.backend_inline, which is a non-GUI backend, so cannot show the figure.\n",
      "  plot_acf(train).show()\n"
     ]
    },
    {
     "data": {
      "image/png": "[encoded data removed]",
      "text/plain": [
       "<Figure size 640x480 with 1 Axes>"
      ]
     },
     "metadata": {},
     "output_type": "display_data"
    }
   ],
   "source": [
    "from statsmodels.graphics.tsaplots import plot_acf, plot_pacf\n",
    "plot_acf(train).show()"
   ]
  },
  {
   "cell_type": "raw",
   "metadata": {
    "vscode": {
     "languageId": "raw"
    }
   },
   "source": [
    "定常性検定"
   ]
  },
  {
   "cell_type": "code",
   "execution_count": null,
   "metadata": {},
   "outputs": [
    {
     "name": "stdout",
     "output_type": "stream",
     "text": [
      "元の系列のADF検定結果： (-1.7710319547121176, 0.3949353727419803, 13, 149, {'1%': -3.4750180242954167, '5%': -2.8811408028842043, '10%': -2.577221358046935}, 1076.6322847133642)\n"
     ]
    }
   ],
   "source": [
    "from statsmodels.tsa.stattools import adfuller as ADF\n",
    "print('元の系列のADF検定結果：',ADF(train['amount']))\n",
    "#返し値は、adf、pvalue、usedlag、nobs、critical values、icbest、regresults、resstoreの順です。"
   ]
  },
  {
   "cell_type": "raw",
   "metadata": {
    "vscode": {
     "languageId": "raw"
    }
   },
   "source": [
    "差分"
   ]
  },
  {
   "cell_type": "code",
   "execution_count": 16,
   "metadata": {},
   "outputs": [
    {
     "data": {
      "image/png": "[encoded data removed]",
      "text/plain": [
       "<Figure size 640x480 with 1 Axes>"
      ]
     },
     "metadata": {},
     "output_type": "display_data"
    }
   ],
   "source": [
    "D_data = train.diff(2).dropna()\n",
    "D_data.columns = ['販売差分']\n",
    "D_data.plot() #時系列グラフ\n",
    "plt.show()"
   ]
  },
  {
   "cell_type": "raw",
   "metadata": {
    "vscode": {
     "languageId": "raw"
    }
   },
   "source": [
    "自己相関図"
   ]
  },
  {
   "cell_type": "code",
   "execution_count": 17,
   "metadata": {},
   "outputs": [
    {
     "name": "stderr",
     "output_type": "stream",
     "text": [
      "C:\\Users\\awse\\AppData\\Local\\Temp\\ipykernel_13472\\2538248294.py:1: UserWarning: Matplotlib is currently using module://matplotlib_inline.backend_inline, which is a non-GUI backend, so cannot show the figure.\n",
      "  plot_acf(D_data).show()\n"
     ]
    },
    {
     "data": {
      "image/png": "[encoded data removed]",
      "text/plain": [
       "<Figure size 640x480 with 1 Axes>"
      ]
     },
     "metadata": {},
     "output_type": "display_data"
    }
   ],
   "source": [
    "plot_acf(D_data).show()"
   ]
  },
  {
   "cell_type": "raw",
   "metadata": {
    "vscode": {
     "languageId": "raw"
    }
   },
   "source": [
    "偏自己相関図"
   ]
  },
  {
   "cell_type": "code",
   "execution_count": 18,
   "metadata": {},
   "outputs": [
    {
     "name": "stderr",
     "output_type": "stream",
     "text": [
      "C:\\Users\\awse\\AppData\\Local\\Temp\\ipykernel_13472\\2140849780.py:2: UserWarning: Matplotlib is currently using module://matplotlib_inline.backend_inline, which is a non-GUI backend, so cannot show the figure.\n",
      "  plot_pacf(D_data).show()\n"
     ]
    },
    {
     "data": {
      "image/png": "[encoded data removed]",
      "text/plain": [
       "<Figure size 640x480 with 1 Axes>"
      ]
     },
     "metadata": {},
     "output_type": "display_data"
    }
   ],
   "source": [
    "from statsmodels.graphics.tsaplots import plot_pacf\n",
    "plot_pacf(D_data).show()"
   ]
  },
  {
   "cell_type": "raw",
   "metadata": {
    "vscode": {
     "languageId": "raw"
    }
   },
   "source": [
    "定常性検定"
   ]
  },
  {
   "cell_type": "code",
   "execution_count": 19,
   "metadata": {},
   "outputs": [
    {
     "name": "stdout",
     "output_type": "stream",
     "text": [
      "差分系列のADF検定結果： (-2.2585899789621435, 0.18567139063736476, 11, 149, {'1%': -3.4750180242954167, '5%': -2.8811408028842043, '10%': -2.577221358046935}, 1063.353716376617)\n"
     ]
    }
   ],
   "source": [
    "print(u'差分系列のADF検定結果：', ADF(D_data[u'販売差分']))"
   ]
  },
  {
   "cell_type": "markdown",
   "metadata": {},
   "source": [
    "ホワイトノイズ検定"
   ]
  },
  {
   "cell_type": "code",
   "execution_count": 20,
   "metadata": {},
   "outputs": [],
   "source": [
    "#科学的記数法を無効にする\n",
    "import sys\n",
    "np.set_printoptions(suppress=True, threshold=sys.maxsize)"
   ]
  },
  {
   "cell_type": "code",
   "execution_count": null,
   "metadata": {},
   "outputs": [
    {
     "name": "stdout",
     "output_type": "stream",
     "text": [
      "差分系列のホワイトノイズ検定結果：     lb_stat     lb_pvalue\n",
      "1  65.28097  6.494549e-16\n"
     ]
    }
   ],
   "source": [
    "from statsmodels.stats.diagnostic import acorr_ljungbox\n",
    "print(u'差分系列のホワイトノイズ検定結果：', acorr_ljungbox(D_data, lags=1)) #統計量とp値を返します"
   ]
  },
  {
   "cell_type": "raw",
   "metadata": {
    "vscode": {
     "languageId": "raw"
    }
   },
   "source": [
    "P値が0.05未満で、定常非ホワイトノイズ系列"
   ]
  },
  {
   "cell_type": "raw",
   "metadata": {
    "vscode": {
     "languageId": "raw"
    }
   },
   "source": [
    "モデルの階数を決定する"
   ]
  },
  {
   "cell_type": "code",
   "execution_count": 23,
   "metadata": {},
   "outputs": [
    {
     "name": "stdout",
     "output_type": "stream",
     "text": [
      "BICの最小のp値とq値：0、0\n"
     ]
    },
    {
     "name": "stderr",
     "output_type": "stream",
     "text": [
      "C:\\Users\\awse\\AppData\\Local\\Temp\\ipykernel_13472\\3454372808.py:3: SettingWithCopyWarning: \n",
      "A value is trying to be set on a copy of a slice from a DataFrame.\n",
      "Try using .loc[row_indexer,col_indexer] = value instead\n",
      "\n",
      "See the caveats in the documentation: https://pandas.pydata.org/pandas-docs/stable/user_guide/indexing.html#returning-a-view-versus-a-copy\n",
      "  train['amount'] = train['amount'].astype(float)\n"
     ]
    }
   ],
   "source": [
    "from statsmodels.tsa.arima.model import ARIMA\n",
    "\n",
    "train['amount'] = train['amount'].astype(float)\n",
    "#階数を決定する\n",
    "pmax = int(len(D_data)/20) \n",
    "qmax = int(len(D_data)/20) \n",
    "bic_matrix = [] #bic行列\n",
    "for p in range(pmax+1):\n",
    "    tmp = []\n",
    "    for q in range(qmax+1):\n",
    "        try: #一部のエラーが存在するため、tryを使用してエラーをスキップする。\n",
    "            tmp.append(ARIMA(train, (p,2,q)).fit().bic)\n",
    "        except:\n",
    "            tmp.append(None)\n",
    "    bic_matrix.append(tmp)\n",
    "\n",
    "bic_matrix = pd.DataFrame(bic_matrix) #最小値を見つける\n",
    "#print(bic_matrix.dtypes)\n",
    "bic_matrix = bic_matrix.apply(pd.to_numeric, errors='coerce')\n",
    "# None値をnp.infに置き換える\n",
    "bic_matrix = bic_matrix.fillna(np.inf)\n",
    "\n",
    "p,q = bic_matrix.stack().idxmin() #まずstackを使って展開し、次にidxminで最小値の位置を見つける。\n",
    "print(u'BICの最小のp値とq値：%s、%s' %(p,q)) "
   ]
  },
  {
   "cell_type": "raw",
   "metadata": {
    "vscode": {
     "languageId": "raw"
    }
   },
   "source": [
    "モデルを構築する"
   ]
  },
  {
   "cell_type": "code",
   "execution_count": 24,
   "metadata": {},
   "outputs": [
    {
     "name": "stdout",
     "output_type": "stream",
     "text": [
      "(163,)\n",
      "float64\n"
     ]
    }
   ],
   "source": [
    "train['amount']\n",
    "print(train['amount'].shape)\n",
    "print(train['amount'].dtype)"
   ]
  },
  {
   "cell_type": "code",
   "execution_count": 25,
   "metadata": {},
   "outputs": [
    {
     "name": "stderr",
     "output_type": "stream",
     "text": [
      "c:\\Users\\awse\\anaconda3\\envs\\dataSci\\lib\\site-packages\\statsmodels\\tsa\\base\\tsa_model.py:473: ValueWarning: No frequency information was provided, so inferred frequency D will be used.\n",
      "  self._init_dates(dates, freq)\n",
      "c:\\Users\\awse\\anaconda3\\envs\\dataSci\\lib\\site-packages\\statsmodels\\tsa\\base\\tsa_model.py:473: ValueWarning: No frequency information was provided, so inferred frequency D will be used.\n",
      "  self._init_dates(dates, freq)\n",
      "c:\\Users\\awse\\anaconda3\\envs\\dataSci\\lib\\site-packages\\statsmodels\\tsa\\base\\tsa_model.py:473: ValueWarning: No frequency information was provided, so inferred frequency D will be used.\n",
      "  self._init_dates(dates, freq)\n",
      "c:\\Users\\awse\\anaconda3\\envs\\dataSci\\lib\\site-packages\\statsmodels\\base\\model.py:607: ConvergenceWarning: Maximum Likelihood optimization failed to converge. Check mle_retvals\n",
      "  warnings.warn(\"Maximum Likelihood optimization failed to \"\n"
     ]
    },
    {
     "data": {
      "text/html": [
       "<table class=\"simpletable\">\n",
       "<caption>SARIMAX Results</caption>\n",
       "<tr>\n",
       "  <th>Dep. Variable:</th>        <td>amount</td>      <th>  No. Observations:  </th>    <td>163</td>  \n",
       "</tr>\n",
       "<tr>\n",
       "  <th>Model:</th>            <td>ARIMA(8, 2, 8)</td>  <th>  Log Likelihood     </th> <td>-769.422</td>\n",
       "</tr>\n",
       "<tr>\n",
       "  <th>Date:</th>            <td>Wed, 05 Mar 2025</td> <th>  AIC                </th> <td>1572.844</td>\n",
       "</tr>\n",
       "<tr>\n",
       "  <th>Time:</th>                <td>21:57:54</td>     <th>  BIC                </th> <td>1625.228</td>\n",
       "</tr>\n",
       "<tr>\n",
       "  <th>Sample:</th>             <td>01-01-2023</td>    <th>  HQIC               </th> <td>1594.114</td>\n",
       "</tr>\n",
       "<tr>\n",
       "  <th></th>                   <td>- 06-12-2023</td>   <th>                     </th>     <td> </td>   \n",
       "</tr>\n",
       "<tr>\n",
       "  <th>Covariance Type:</th>        <td>opg</td>       <th>                     </th>     <td> </td>   \n",
       "</tr>\n",
       "</table>\n",
       "<table class=\"simpletable\">\n",
       "<tr>\n",
       "     <td></td>       <th>coef</th>     <th>std err</th>      <th>z</th>      <th>P>|z|</th>  <th>[0.025</th>    <th>0.975]</th>  \n",
       "</tr>\n",
       "<tr>\n",
       "  <th>ar.L1</th>  <td>    0.2950</td> <td>    1.604</td> <td>    0.184</td> <td> 0.854</td> <td>   -2.848</td> <td>    3.438</td>\n",
       "</tr>\n",
       "<tr>\n",
       "  <th>ar.L2</th>  <td>    0.4039</td> <td>    1.070</td> <td>    0.377</td> <td> 0.706</td> <td>   -1.694</td> <td>    2.502</td>\n",
       "</tr>\n",
       "<tr>\n",
       "  <th>ar.L3</th>  <td>   -0.6311</td> <td>    0.864</td> <td>   -0.731</td> <td> 0.465</td> <td>   -2.324</td> <td>    1.061</td>\n",
       "</tr>\n",
       "<tr>\n",
       "  <th>ar.L4</th>  <td>   -0.7290</td> <td>    1.578</td> <td>   -0.462</td> <td> 0.644</td> <td>   -3.821</td> <td>    2.363</td>\n",
       "</tr>\n",
       "<tr>\n",
       "  <th>ar.L5</th>  <td>    0.6504</td> <td>    0.846</td> <td>    0.769</td> <td> 0.442</td> <td>   -1.007</td> <td>    2.308</td>\n",
       "</tr>\n",
       "<tr>\n",
       "  <th>ar.L6</th>  <td>   -0.2483</td> <td>    1.597</td> <td>   -0.155</td> <td> 0.876</td> <td>   -3.379</td> <td>    2.882</td>\n",
       "</tr>\n",
       "<tr>\n",
       "  <th>ar.L7</th>  <td>   -0.3518</td> <td>    0.988</td> <td>   -0.356</td> <td> 0.722</td> <td>   -2.288</td> <td>    1.585</td>\n",
       "</tr>\n",
       "<tr>\n",
       "  <th>ar.L8</th>  <td>   -0.3381</td> <td>    0.795</td> <td>   -0.426</td> <td> 0.670</td> <td>   -1.895</td> <td>    1.219</td>\n",
       "</tr>\n",
       "<tr>\n",
       "  <th>ma.L1</th>  <td>   -1.8874</td> <td>    3.598</td> <td>   -0.525</td> <td> 0.600</td> <td>   -8.940</td> <td>    5.165</td>\n",
       "</tr>\n",
       "<tr>\n",
       "  <th>ma.L2</th>  <td>    0.7988</td> <td>    8.162</td> <td>    0.098</td> <td> 0.922</td> <td>  -15.199</td> <td>   16.797</td>\n",
       "</tr>\n",
       "<tr>\n",
       "  <th>ma.L3</th>  <td>    0.9338</td> <td>    4.832</td> <td>    0.193</td> <td> 0.847</td> <td>   -8.536</td> <td>   10.404</td>\n",
       "</tr>\n",
       "<tr>\n",
       "  <th>ma.L4</th>  <td>   -0.3143</td> <td>    6.234</td> <td>   -0.050</td> <td> 0.960</td> <td>  -12.533</td> <td>   11.904</td>\n",
       "</tr>\n",
       "<tr>\n",
       "  <th>ma.L5</th>  <td>   -1.5875</td> <td>   11.687</td> <td>   -0.136</td> <td> 0.892</td> <td>  -24.493</td> <td>   21.318</td>\n",
       "</tr>\n",
       "<tr>\n",
       "  <th>ma.L6</th>  <td>    1.6686</td> <td>    7.599</td> <td>    0.220</td> <td> 0.826</td> <td>  -13.225</td> <td>   16.562</td>\n",
       "</tr>\n",
       "<tr>\n",
       "  <th>ma.L7</th>  <td>   -0.4127</td> <td>    3.808</td> <td>   -0.108</td> <td> 0.914</td> <td>   -7.877</td> <td>    7.051</td>\n",
       "</tr>\n",
       "<tr>\n",
       "  <th>ma.L8</th>  <td>   -0.1914</td> <td>    1.765</td> <td>   -0.108</td> <td> 0.914</td> <td>   -3.651</td> <td>    3.268</td>\n",
       "</tr>\n",
       "<tr>\n",
       "  <th>sigma2</th> <td> 1515.4297</td> <td> 5505.836</td> <td>    0.275</td> <td> 0.783</td> <td>-9275.811</td> <td> 1.23e+04</td>\n",
       "</tr>\n",
       "</table>\n",
       "<table class=\"simpletable\">\n",
       "<tr>\n",
       "  <th>Ljung-Box (L1) (Q):</th>     <td>0.37</td> <th>  Jarque-Bera (JB):  </th> <td>0.98</td>\n",
       "</tr>\n",
       "<tr>\n",
       "  <th>Prob(Q):</th>                <td>0.54</td> <th>  Prob(JB):          </th> <td>0.61</td>\n",
       "</tr>\n",
       "<tr>\n",
       "  <th>Heteroskedasticity (H):</th> <td>1.03</td> <th>  Skew:              </th> <td>0.06</td>\n",
       "</tr>\n",
       "<tr>\n",
       "  <th>Prob(H) (two-sided):</th>    <td>0.91</td> <th>  Kurtosis:          </th> <td>3.37</td>\n",
       "</tr>\n",
       "</table><br/><br/>Warnings:<br/>[1] Covariance matrix calculated using the outer product of gradients (complex-step)."
      ],
      "text/latex": [
       "\\begin{center}\n",
       "\\begin{tabular}{lclc}\n",
       "\\toprule\n",
       "\\textbf{Dep. Variable:}          &      amount      & \\textbf{  No. Observations:  } &    163      \\\\\n",
       "\\textbf{Model:}                  &  ARIMA(8, 2, 8)  & \\textbf{  Log Likelihood     } &  -769.422   \\\\\n",
       "\\textbf{Date:}                   & Wed, 05 Mar 2025 & \\textbf{  AIC                } &  1572.844   \\\\\n",
       "\\textbf{Time:}                   &     21:57:54     & \\textbf{  BIC                } &  1625.228   \\\\\n",
       "\\textbf{Sample:}                 &    01-01-2023    & \\textbf{  HQIC               } &  1594.114   \\\\\n",
       "\\textbf{}                        &   - 06-12-2023   & \\textbf{                     } &             \\\\\n",
       "\\textbf{Covariance Type:}        &       opg        & \\textbf{                     } &             \\\\\n",
       "\\bottomrule\n",
       "\\end{tabular}\n",
       "\\begin{tabular}{lcccccc}\n",
       "                & \\textbf{coef} & \\textbf{std err} & \\textbf{z} & \\textbf{P$> |$z$|$} & \\textbf{[0.025} & \\textbf{0.975]}  \\\\\n",
       "\\midrule\n",
       "\\textbf{ar.L1}  &       0.2950  &        1.604     &     0.184  &         0.854        &       -2.848    &        3.438     \\\\\n",
       "\\textbf{ar.L2}  &       0.4039  &        1.070     &     0.377  &         0.706        &       -1.694    &        2.502     \\\\\n",
       "\\textbf{ar.L3}  &      -0.6311  &        0.864     &    -0.731  &         0.465        &       -2.324    &        1.061     \\\\\n",
       "\\textbf{ar.L4}  &      -0.7290  &        1.578     &    -0.462  &         0.644        &       -3.821    &        2.363     \\\\\n",
       "\\textbf{ar.L5}  &       0.6504  &        0.846     &     0.769  &         0.442        &       -1.007    &        2.308     \\\\\n",
       "\\textbf{ar.L6}  &      -0.2483  &        1.597     &    -0.155  &         0.876        &       -3.379    &        2.882     \\\\\n",
       "\\textbf{ar.L7}  &      -0.3518  &        0.988     &    -0.356  &         0.722        &       -2.288    &        1.585     \\\\\n",
       "\\textbf{ar.L8}  &      -0.3381  &        0.795     &    -0.426  &         0.670        &       -1.895    &        1.219     \\\\\n",
       "\\textbf{ma.L1}  &      -1.8874  &        3.598     &    -0.525  &         0.600        &       -8.940    &        5.165     \\\\\n",
       "\\textbf{ma.L2}  &       0.7988  &        8.162     &     0.098  &         0.922        &      -15.199    &       16.797     \\\\\n",
       "\\textbf{ma.L3}  &       0.9338  &        4.832     &     0.193  &         0.847        &       -8.536    &       10.404     \\\\\n",
       "\\textbf{ma.L4}  &      -0.3143  &        6.234     &    -0.050  &         0.960        &      -12.533    &       11.904     \\\\\n",
       "\\textbf{ma.L5}  &      -1.5875  &       11.687     &    -0.136  &         0.892        &      -24.493    &       21.318     \\\\\n",
       "\\textbf{ma.L6}  &       1.6686  &        7.599     &     0.220  &         0.826        &      -13.225    &       16.562     \\\\\n",
       "\\textbf{ma.L7}  &      -0.4127  &        3.808     &    -0.108  &         0.914        &       -7.877    &        7.051     \\\\\n",
       "\\textbf{ma.L8}  &      -0.1914  &        1.765     &    -0.108  &         0.914        &       -3.651    &        3.268     \\\\\n",
       "\\textbf{sigma2} &    1515.4297  &     5505.836     &     0.275  &         0.783        &    -9275.811    &     1.23e+04     \\\\\n",
       "\\bottomrule\n",
       "\\end{tabular}\n",
       "\\begin{tabular}{lclc}\n",
       "\\textbf{Ljung-Box (L1) (Q):}     & 0.37 & \\textbf{  Jarque-Bera (JB):  } & 0.98  \\\\\n",
       "\\textbf{Prob(Q):}                & 0.54 & \\textbf{  Prob(JB):          } & 0.61  \\\\\n",
       "\\textbf{Heteroskedasticity (H):} & 1.03 & \\textbf{  Skew:              } & 0.06  \\\\\n",
       "\\textbf{Prob(H) (two-sided):}    & 0.91 & \\textbf{  Kurtosis:          } & 3.37  \\\\\n",
       "\\bottomrule\n",
       "\\end{tabular}\n",
       "%\\caption{SARIMAX Results}\n",
       "\\end{center}\n",
       "\n",
       "Warnings: \\newline\n",
       " [1] Covariance matrix calculated using the outer product of gradients (complex-step)."
      ],
      "text/plain": [
       "<class 'statsmodels.iolib.summary.Summary'>\n",
       "\"\"\"\n",
       "                               SARIMAX Results                                \n",
       "==============================================================================\n",
       "Dep. Variable:                 amount   No. Observations:                  163\n",
       "Model:                 ARIMA(8, 2, 8)   Log Likelihood                -769.422\n",
       "Date:                Wed, 05 Mar 2025   AIC                           1572.844\n",
       "Time:                        21:57:54   BIC                           1625.228\n",
       "Sample:                    01-01-2023   HQIC                          1594.114\n",
       "                         - 06-12-2023                                         \n",
       "Covariance Type:                  opg                                         \n",
       "==============================================================================\n",
       "                 coef    std err          z      P>|z|      [0.025      0.975]\n",
       "------------------------------------------------------------------------------\n",
       "ar.L1          0.2950      1.604      0.184      0.854      -2.848       3.438\n",
       "ar.L2          0.4039      1.070      0.377      0.706      -1.694       2.502\n",
       "ar.L3         -0.6311      0.864     -0.731      0.465      -2.324       1.061\n",
       "ar.L4         -0.7290      1.578     -0.462      0.644      -3.821       2.363\n",
       "ar.L5          0.6504      0.846      0.769      0.442      -1.007       2.308\n",
       "ar.L6         -0.2483      1.597     -0.155      0.876      -3.379       2.882\n",
       "ar.L7         -0.3518      0.988     -0.356      0.722      -2.288       1.585\n",
       "ar.L8         -0.3381      0.795     -0.426      0.670      -1.895       1.219\n",
       "ma.L1         -1.8874      3.598     -0.525      0.600      -8.940       5.165\n",
       "ma.L2          0.7988      8.162      0.098      0.922     -15.199      16.797\n",
       "ma.L3          0.9338      4.832      0.193      0.847      -8.536      10.404\n",
       "ma.L4         -0.3143      6.234     -0.050      0.960     -12.533      11.904\n",
       "ma.L5         -1.5875     11.687     -0.136      0.892     -24.493      21.318\n",
       "ma.L6          1.6686      7.599      0.220      0.826     -13.225      16.562\n",
       "ma.L7         -0.4127      3.808     -0.108      0.914      -7.877       7.051\n",
       "ma.L8         -0.1914      1.765     -0.108      0.914      -3.651       3.268\n",
       "sigma2      1515.4297   5505.836      0.275      0.783   -9275.811    1.23e+04\n",
       "===================================================================================\n",
       "Ljung-Box (L1) (Q):                   0.37   Jarque-Bera (JB):                 0.98\n",
       "Prob(Q):                              0.54   Prob(JB):                         0.61\n",
       "Heteroskedasticity (H):               1.03   Skew:                             0.06\n",
       "Prob(H) (two-sided):                  0.91   Kurtosis:                         3.37\n",
       "===================================================================================\n",
       "\n",
       "Warnings:\n",
       "[1] Covariance matrix calculated using the outer product of gradients (complex-step).\n",
       "\"\"\""
      ]
     },
     "execution_count": 25,
     "metadata": {},
     "output_type": "execute_result"
    }
   ],
   "source": [
    "#train['amount'] = pd.to_numeric(train['amount'], errors='coerce').dropna()\n",
    "model = ARIMA(train['amount'],order=(8,2,8)).fit() \n",
    "model.summary() #モデルを報告します"
   ]
  },
  {
   "cell_type": "raw",
   "metadata": {
    "vscode": {
     "languageId": "raw"
    }
   },
   "source": [
    "予測:期間5日間の予測として、予測結果、標準誤差、信頼区間を返します。"
   ]
  },
  {
   "cell_type": "code",
   "execution_count": 26,
   "metadata": {},
   "outputs": [
    {
     "data": {
      "text/plain": [
       "2023-06-13    868.129028\n",
       "2023-06-14    781.308072\n",
       "2023-06-15    798.754926\n",
       "2023-06-16    762.161773\n",
       "2023-06-17    783.804348\n",
       "Freq: D, Name: predicted_mean, dtype: float64"
      ]
     },
     "execution_count": 26,
     "metadata": {},
     "output_type": "execute_result"
    }
   ],
   "source": [
    "model.forecast(5)"
   ]
  },
  {
   "cell_type": "code",
   "execution_count": 27,
   "metadata": {},
   "outputs": [
    {
     "data": {
      "text/html": [
       "<div>\n",
       "<style scoped>\n",
       "    .dataframe tbody tr th:only-of-type {\n",
       "        vertical-align: middle;\n",
       "    }\n",
       "\n",
       "    .dataframe tbody tr th {\n",
       "        vertical-align: top;\n",
       "    }\n",
       "\n",
       "    .dataframe thead th {\n",
       "        text-align: right;\n",
       "    }\n",
       "</style>\n",
       "<table border=\"1\" class=\"dataframe\">\n",
       "  <thead>\n",
       "    <tr style=\"text-align: right;\">\n",
       "      <th></th>\n",
       "      <th>date</th>\n",
       "      <th>amount</th>\n",
       "    </tr>\n",
       "  </thead>\n",
       "  <tbody>\n",
       "    <tr>\n",
       "      <th>163</th>\n",
       "      <td>2023/6/13</td>\n",
       "      <td>858</td>\n",
       "    </tr>\n",
       "    <tr>\n",
       "      <th>164</th>\n",
       "      <td>2023/6/14</td>\n",
       "      <td>817</td>\n",
       "    </tr>\n",
       "    <tr>\n",
       "      <th>165</th>\n",
       "      <td>2023/6/15</td>\n",
       "      <td>827</td>\n",
       "    </tr>\n",
       "    <tr>\n",
       "      <th>166</th>\n",
       "      <td>2023/6/16</td>\n",
       "      <td>797</td>\n",
       "    </tr>\n",
       "    <tr>\n",
       "      <th>167</th>\n",
       "      <td>2023/6/17</td>\n",
       "      <td>843</td>\n",
       "    </tr>\n",
       "  </tbody>\n",
       "</table>\n",
       "</div>"
      ],
      "text/plain": [
       "          date  amount\n",
       "163  2023/6/13     858\n",
       "164  2023/6/14     817\n",
       "165  2023/6/15     827\n",
       "166  2023/6/16     797\n",
       "167  2023/6/17     843"
      ]
     },
     "execution_count": 27,
     "metadata": {},
     "output_type": "execute_result"
    }
   ],
   "source": [
    "test"
   ]
  },
  {
   "cell_type": "code",
   "execution_count": 28,
   "metadata": {},
   "outputs": [],
   "source": [
    "forecast=model.forecast(5)[0]"
   ]
  },
  {
   "cell_type": "code",
   "execution_count": 29,
   "metadata": {},
   "outputs": [
    {
     "name": "stderr",
     "output_type": "stream",
     "text": [
      "C:\\Users\\awse\\AppData\\Local\\Temp\\ipykernel_13472\\1846431474.py:1: SettingWithCopyWarning: \n",
      "A value is trying to be set on a copy of a slice from a DataFrame.\n",
      "Try using .loc[row_indexer,col_indexer] = value instead\n",
      "\n",
      "See the caveats in the documentation: https://pandas.pydata.org/pandas-docs/stable/user_guide/indexing.html#returning-a-view-versus-a-copy\n",
      "  test['predict']=forecast\n"
     ]
    }
   ],
   "source": [
    "test['predict']=forecast"
   ]
  },
  {
   "cell_type": "code",
   "execution_count": 30,
   "metadata": {},
   "outputs": [
    {
     "data": {
      "text/html": [
       "<div>\n",
       "<style scoped>\n",
       "    .dataframe tbody tr th:only-of-type {\n",
       "        vertical-align: middle;\n",
       "    }\n",
       "\n",
       "    .dataframe tbody tr th {\n",
       "        vertical-align: top;\n",
       "    }\n",
       "\n",
       "    .dataframe thead th {\n",
       "        text-align: right;\n",
       "    }\n",
       "</style>\n",
       "<table border=\"1\" class=\"dataframe\">\n",
       "  <thead>\n",
       "    <tr style=\"text-align: right;\">\n",
       "      <th></th>\n",
       "      <th>date</th>\n",
       "      <th>amount</th>\n",
       "      <th>predict</th>\n",
       "    </tr>\n",
       "  </thead>\n",
       "  <tbody>\n",
       "    <tr>\n",
       "      <th>163</th>\n",
       "      <td>2023/6/13</td>\n",
       "      <td>858</td>\n",
       "      <td>868.129028</td>\n",
       "    </tr>\n",
       "    <tr>\n",
       "      <th>164</th>\n",
       "      <td>2023/6/14</td>\n",
       "      <td>817</td>\n",
       "      <td>868.129028</td>\n",
       "    </tr>\n",
       "    <tr>\n",
       "      <th>165</th>\n",
       "      <td>2023/6/15</td>\n",
       "      <td>827</td>\n",
       "      <td>868.129028</td>\n",
       "    </tr>\n",
       "    <tr>\n",
       "      <th>166</th>\n",
       "      <td>2023/6/16</td>\n",
       "      <td>797</td>\n",
       "      <td>868.129028</td>\n",
       "    </tr>\n",
       "    <tr>\n",
       "      <th>167</th>\n",
       "      <td>2023/6/17</td>\n",
       "      <td>843</td>\n",
       "      <td>868.129028</td>\n",
       "    </tr>\n",
       "  </tbody>\n",
       "</table>\n",
       "</div>"
      ],
      "text/plain": [
       "          date  amount     predict\n",
       "163  2023/6/13     858  868.129028\n",
       "164  2023/6/14     817  868.129028\n",
       "165  2023/6/15     827  868.129028\n",
       "166  2023/6/16     797  868.129028\n",
       "167  2023/6/17     843  868.129028"
      ]
     },
     "execution_count": 30,
     "metadata": {},
     "output_type": "execute_result"
    }
   ],
   "source": [
    "test.head()"
   ]
  },
  {
   "cell_type": "raw",
   "metadata": {
    "vscode": {
     "languageId": "raw"
    }
   },
   "source": [
    "モデル検証MAPE=|予測値-実測値|/実測値"
   ]
  },
  {
   "cell_type": "code",
   "execution_count": 31,
   "metadata": {},
   "outputs": [],
   "source": [
    "def mape(x):\n",
    "    a=x[1]\n",
    "    b=x[2]\n",
    "    result=abs(a-b)/a\n",
    "    return  result"
   ]
  },
  {
   "cell_type": "code",
   "execution_count": 32,
   "metadata": {},
   "outputs": [
    {
     "name": "stderr",
     "output_type": "stream",
     "text": [
      "C:\\Users\\awse\\AppData\\Local\\Temp\\ipykernel_13472\\3097466425.py:1: SettingWithCopyWarning: \n",
      "A value is trying to be set on a copy of a slice from a DataFrame.\n",
      "Try using .loc[row_indexer,col_indexer] = value instead\n",
      "\n",
      "See the caveats in the documentation: https://pandas.pydata.org/pandas-docs/stable/user_guide/indexing.html#returning-a-view-versus-a-copy\n",
      "  test['MAPE']=test.apply(mape,axis=1)\n"
     ]
    }
   ],
   "source": [
    "test['MAPE']=test.apply(mape,axis=1)"
   ]
  },
  {
   "cell_type": "code",
   "execution_count": 33,
   "metadata": {},
   "outputs": [
    {
     "data": {
      "text/html": [
       "<div>\n",
       "<style scoped>\n",
       "    .dataframe tbody tr th:only-of-type {\n",
       "        vertical-align: middle;\n",
       "    }\n",
       "\n",
       "    .dataframe tbody tr th {\n",
       "        vertical-align: top;\n",
       "    }\n",
       "\n",
       "    .dataframe thead th {\n",
       "        text-align: right;\n",
       "    }\n",
       "</style>\n",
       "<table border=\"1\" class=\"dataframe\">\n",
       "  <thead>\n",
       "    <tr style=\"text-align: right;\">\n",
       "      <th></th>\n",
       "      <th>date</th>\n",
       "      <th>amount</th>\n",
       "      <th>predict</th>\n",
       "      <th>MAPE</th>\n",
       "    </tr>\n",
       "  </thead>\n",
       "  <tbody>\n",
       "    <tr>\n",
       "      <th>163</th>\n",
       "      <td>2023/6/13</td>\n",
       "      <td>858</td>\n",
       "      <td>868.129028</td>\n",
       "      <td>0.011805</td>\n",
       "    </tr>\n",
       "    <tr>\n",
       "      <th>164</th>\n",
       "      <td>2023/6/14</td>\n",
       "      <td>817</td>\n",
       "      <td>868.129028</td>\n",
       "      <td>0.062581</td>\n",
       "    </tr>\n",
       "    <tr>\n",
       "      <th>165</th>\n",
       "      <td>2023/6/15</td>\n",
       "      <td>827</td>\n",
       "      <td>868.129028</td>\n",
       "      <td>0.049733</td>\n",
       "    </tr>\n",
       "    <tr>\n",
       "      <th>166</th>\n",
       "      <td>2023/6/16</td>\n",
       "      <td>797</td>\n",
       "      <td>868.129028</td>\n",
       "      <td>0.089246</td>\n",
       "    </tr>\n",
       "    <tr>\n",
       "      <th>167</th>\n",
       "      <td>2023/6/17</td>\n",
       "      <td>843</td>\n",
       "      <td>868.129028</td>\n",
       "      <td>0.029809</td>\n",
       "    </tr>\n",
       "  </tbody>\n",
       "</table>\n",
       "</div>"
      ],
      "text/plain": [
       "          date  amount     predict      MAPE\n",
       "163  2023/6/13     858  868.129028  0.011805\n",
       "164  2023/6/14     817  868.129028  0.062581\n",
       "165  2023/6/15     827  868.129028  0.049733\n",
       "166  2023/6/16     797  868.129028  0.089246\n",
       "167  2023/6/17     843  868.129028  0.029809"
      ]
     },
     "execution_count": 33,
     "metadata": {},
     "output_type": "execute_result"
    }
   ],
   "source": [
    "test.head()"
   ]
  },
  {
   "cell_type": "raw",
   "metadata": {
    "vscode": {
     "languageId": "raw"
    }
   },
   "source": []
  },
  {
   "cell_type": "code",
   "execution_count": null,
   "metadata": {},
   "outputs": [],
   "source": []
  }
 ],
 "metadata": {
  "kernelspec": {
   "display_name": "dataSci",
   "language": "python",
   "name": "python3"
  },
  "language_info": {
   "codemirror_mode": {
    "name": "ipython",
    "version": 3
   },
   "file_extension": ".py",
   "mimetype": "text/x-python",
   "name": "python",
   "nbconvert_exporter": "python",
   "pygments_lexer": "ipython3",
   "version": "3.8.20"
  }
 },
 "nbformat": 4,
 "nbformat_minor": 2
}
