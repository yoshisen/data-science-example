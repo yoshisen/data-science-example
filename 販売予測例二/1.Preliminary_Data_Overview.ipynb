{
 "cells": [
  {
   "cell_type": "code",
   "execution_count": null,
   "id": "e350345a",
   "metadata": {},
   "outputs": [],
   "source": [
    "import pandas as pd"
   ]
  },
  {
   "cell_type": "code",
   "execution_count": null,
   "id": "73a438d2",
   "metadata": {},
   "outputs": [
    {
     "data": {
      "application/vnd.microsoft.datawrangler.viewer.v0+json": {
       "columns": [
        {
         "name": "index",
         "rawType": "int64",
         "type": "integer"
        },
        {
         "name": "store",
         "rawType": "int64",
         "type": "integer"
        },
        {
         "name": "dept",
         "rawType": "int64",
         "type": "integer"
        },
        {
         "name": "week",
         "rawType": "object",
         "type": "string"
        },
        {
         "name": "sales",
         "rawType": "float64",
         "type": "float"
        }
       ],
       "conversionMethod": "pd.DataFrame",
       "ref": "d95bfd39-4fca-4cff-8cf0-0d1e6b010b03",
       "rows": [
        [
         "0",
         "1",
         "1",
         "2010-02-01",
         "24924.5"
        ],
        [
         "1",
         "1",
         "1",
         "2010-02-08",
         "46039.49"
        ]
       ],
       "shape": {
        "columns": 4,
        "rows": 2
       }
      },
      "text/html": [
       "<div>\n",
       "<style scoped>\n",
       "    .dataframe tbody tr th:only-of-type {\n",
       "        vertical-align: middle;\n",
       "    }\n",
       "\n",
       "    .dataframe tbody tr th {\n",
       "        vertical-align: top;\n",
       "    }\n",
       "\n",
       "    .dataframe thead th {\n",
       "        text-align: right;\n",
       "    }\n",
       "</style>\n",
       "<table border=\"1\" class=\"dataframe\">\n",
       "  <thead>\n",
       "    <tr style=\"text-align: right;\">\n",
       "      <th></th>\n",
       "      <th>store</th>\n",
       "      <th>dept</th>\n",
       "      <th>week</th>\n",
       "      <th>sales</th>\n",
       "    </tr>\n",
       "  </thead>\n",
       "  <tbody>\n",
       "    <tr>\n",
       "      <th>0</th>\n",
       "      <td>1</td>\n",
       "      <td>1</td>\n",
       "      <td>2010-02-01</td>\n",
       "      <td>24924.50</td>\n",
       "    </tr>\n",
       "    <tr>\n",
       "      <th>1</th>\n",
       "      <td>1</td>\n",
       "      <td>1</td>\n",
       "      <td>2010-02-08</td>\n",
       "      <td>46039.49</td>\n",
       "    </tr>\n",
       "  </tbody>\n",
       "</table>\n",
       "</div>"
      ],
      "text/plain": [
       "   store  dept        week     sales\n",
       "0      1     1  2010-02-01  24924.50\n",
       "1      1     1  2010-02-08  46039.49"
      ]
     },
     "execution_count": 45,
     "metadata": {},
     "output_type": "execute_result"
    }
   ],
   "source": [
    "#データの読み込み\n",
    "# store:店舗番号\n",
    "# dept:商品部門番号\n",
    "# week:毎週月曜日の日付\n",
    "# sales:売上金額\n",
    "df = pd.read_csv('data/sales.csv')\n",
    "df.head(2)"
   ]
  },
  {
   "cell_type": "markdown",
   "id": "a1427445",
   "metadata": {},
   "source": [
    "主キーはweek, store, dept"
   ]
  },
  {
   "cell_type": "code",
   "execution_count": null,
   "id": "d343d281",
   "metadata": {},
   "outputs": [
    {
     "data": {
      "text/plain": [
       "('2010-02-01', '2012-10-22')"
      ]
     },
     "execution_count": 46,
     "metadata": {},
     "output_type": "execute_result"
    }
   ],
   "source": [
    "#日付の範囲を見る\n",
    "df['week'].min(), df['week'].max()"
   ]
  },
  {
   "cell_type": "markdown",
   "id": "12589d7f",
   "metadata": {},
   "source": [
    "時間粒度は週、 範囲は2010-02-01から2012-10-22まで"
   ]
  },
  {
   "cell_type": "code",
   "execution_count": null,
   "id": "22b44396",
   "metadata": {},
   "outputs": [
    {
     "data": {
      "text/plain": [
       "True"
      ]
     },
     "execution_count": 47,
     "metadata": {},
     "output_type": "execute_result"
    }
   ],
   "source": [
    "# 主キーの重複をチェック\n",
    "df.shape[0] == df[['week','store','dept']].drop_duplicates().shape[0]"
   ]
  },
  {
   "cell_type": "markdown",
   "id": "ba3cd4b5",
   "metadata": {},
   "source": [
    "主キーの重複が存在しないデータ"
   ]
  },
  {
   "cell_type": "code",
   "execution_count": null,
   "id": "3aea2081",
   "metadata": {},
   "outputs": [
    {
     "data": {
      "text/plain": [
       "3331"
      ]
     },
     "execution_count": 48,
     "metadata": {},
     "output_type": "execute_result"
    }
   ],
   "source": [
    "# 一連の時間系列は全部で何本ありますか\n",
    "df[['store','dept']].drop_duplicates().shape[0]"
   ]
  },
  {
   "cell_type": "markdown",
   "id": "fc8112a5",
   "metadata": {},
   "source": [
    "一連の時間系列は全部で3331本"
   ]
  },
  {
   "cell_type": "code",
   "execution_count": null,
   "id": "fc6cb57b",
   "metadata": {},
   "outputs": [
    {
     "data": {
      "application/vnd.microsoft.datawrangler.viewer.v0+json": {
       "columns": [
        {
         "name": "index",
         "rawType": "int64",
         "type": "integer"
        },
        {
         "name": "store",
         "rawType": "int64",
         "type": "integer"
        },
        {
         "name": "dept",
         "rawType": "int64",
         "type": "integer"
        },
        {
         "name": "min",
         "rawType": "datetime64[ns]",
         "type": "datetime"
        },
        {
         "name": "max",
         "rawType": "datetime64[ns]",
         "type": "datetime"
        },
        {
         "name": "nunique",
         "rawType": "int64",
         "type": "integer"
        },
        {
         "name": "date_miss",
         "rawType": "int64",
         "type": "integer"
        }
       ],
       "conversionMethod": "pd.DataFrame",
       "ref": "f6d568a2-ff2b-4d5a-bce1-ba812704b65f",
       "rows": [
        [
         "16",
         "1",
         "18",
         "2010-02-01 00:00:00",
         "2012-10-22 00:00:00",
         "113",
         "30"
        ],
        [
         "41",
         "1",
         "45",
         "2010-02-01 00:00:00",
         "2012-10-22 00:00:00",
         "71",
         "72"
        ],
        [
         "43",
         "1",
         "47",
         "2010-02-01 00:00:00",
         "2012-09-24 00:00:00",
         "22",
         "117"
        ],
        [
         "44",
         "1",
         "48",
         "2010-02-01 00:00:00",
         "2012-10-22 00:00:00",
         "125",
         "18"
        ],
        [
         "46",
         "1",
         "51",
         "2010-02-01 00:00:00",
         "2010-10-11 00:00:00",
         "33",
         "4"
        ],
        [
         "48",
         "1",
         "54",
         "2010-02-01 00:00:00",
         "2012-10-22 00:00:00",
         "133",
         "10"
        ],
        [
         "58",
         "1",
         "77",
         "2011-11-21 00:00:00",
         "2012-01-16 00:00:00",
         "3",
         "6"
        ],
        [
         "59",
         "1",
         "78",
         "2010-03-01 00:00:00",
         "2011-08-22 00:00:00",
         "4",
         "74"
        ],
        [
         "76",
         "1",
         "99",
         "2010-06-28 00:00:00",
         "2012-10-08 00:00:00",
         "37",
         "83"
        ],
        [
         "93",
         "2",
         "18",
         "2010-02-01 00:00:00",
         "2012-10-22 00:00:00",
         "113",
         "30"
        ],
        [
         "114",
         "2",
         "39",
         "2010-02-15 00:00:00",
         "2010-03-15 00:00:00",
         "4",
         "1"
        ],
        [
         "119",
         "2",
         "45",
         "2010-02-01 00:00:00",
         "2012-10-08 00:00:00",
         "66",
         "75"
        ],
        [
         "121",
         "2",
         "47",
         "2010-05-17 00:00:00",
         "2012-07-16 00:00:00",
         "22",
         "92"
        ],
        [
         "122",
         "2",
         "48",
         "2010-02-01 00:00:00",
         "2012-10-22 00:00:00",
         "139",
         "4"
        ],
        [
         "124",
         "2",
         "51",
         "2010-02-01 00:00:00",
         "2010-04-26 00:00:00",
         "12",
         "1"
        ],
        [
         "126",
         "2",
         "54",
         "2010-02-01 00:00:00",
         "2012-10-22 00:00:00",
         "136",
         "7"
        ],
        [
         "131",
         "2",
         "60",
         "2010-03-15 00:00:00",
         "2012-10-22 00:00:00",
         "111",
         "26"
        ],
        [
         "136",
         "2",
         "77",
         "2011-11-21 00:00:00",
         "2011-12-05 00:00:00",
         "2",
         "1"
        ],
        [
         "137",
         "2",
         "78",
         "2010-02-01 00:00:00",
         "2012-07-23 00:00:00",
         "10",
         "120"
        ],
        [
         "154",
         "2",
         "99",
         "2010-06-21 00:00:00",
         "2012-10-08 00:00:00",
         "42",
         "79"
        ],
        [
         "171",
         "3",
         "18",
         "2010-02-01 00:00:00",
         "2012-10-22 00:00:00",
         "115",
         "28"
        ],
        [
         "195",
         "3",
         "45",
         "2010-02-01 00:00:00",
         "2011-01-03 00:00:00",
         "12",
         "37"
        ],
        [
         "197",
         "3",
         "47",
         "2010-02-01 00:00:00",
         "2010-06-14 00:00:00",
         "8",
         "12"
        ],
        [
         "198",
         "3",
         "49",
         "2011-07-04 00:00:00",
         "2012-10-22 00:00:00",
         "54",
         "15"
        ],
        [
         "199",
         "3",
         "51",
         "2010-02-01 00:00:00",
         "2012-05-21 00:00:00",
         "61",
         "60"
        ],
        [
         "201",
         "3",
         "54",
         "2010-02-01 00:00:00",
         "2012-10-22 00:00:00",
         "113",
         "30"
        ],
        [
         "204",
         "3",
         "59",
         "2010-02-01 00:00:00",
         "2012-10-22 00:00:00",
         "123",
         "20"
        ],
        [
         "210",
         "3",
         "77",
         "2011-01-17 00:00:00",
         "2011-11-21 00:00:00",
         "3",
         "42"
        ],
        [
         "213",
         "3",
         "80",
         "2010-04-26 00:00:00",
         "2012-10-08 00:00:00",
         "21",
         "108"
        ],
        [
         "222",
         "3",
         "94",
         "2010-02-08 00:00:00",
         "2012-10-22 00:00:00",
         "54",
         "88"
        ],
        [
         "225",
         "3",
         "97",
         "2010-02-01 00:00:00",
         "2012-10-22 00:00:00",
         "140",
         "3"
        ],
        [
         "226",
         "3",
         "98",
         "2010-11-01 00:00:00",
         "2012-07-30 00:00:00",
         "36",
         "56"
        ],
        [
         "243",
         "4",
         "18",
         "2010-02-01 00:00:00",
         "2012-10-22 00:00:00",
         "124",
         "19"
        ],
        [
         "269",
         "4",
         "45",
         "2010-02-01 00:00:00",
         "2012-10-22 00:00:00",
         "49",
         "94"
        ],
        [
         "271",
         "4",
         "47",
         "2010-02-08 00:00:00",
         "2012-04-16 00:00:00",
         "13",
         "102"
        ],
        [
         "272",
         "4",
         "48",
         "2010-02-01 00:00:00",
         "2012-10-22 00:00:00",
         "141",
         "2"
        ],
        [
         "274",
         "4",
         "51",
         "2010-02-01 00:00:00",
         "2012-07-09 00:00:00",
         "23",
         "105"
        ],
        [
         "276",
         "4",
         "54",
         "2010-02-01 00:00:00",
         "2012-10-22 00:00:00",
         "140",
         "3"
        ],
        [
         "286",
         "4",
         "77",
         "2011-11-21 00:00:00",
         "2012-03-05 00:00:00",
         "7",
         "9"
        ],
        [
         "287",
         "4",
         "78",
         "2010-02-08 00:00:00",
         "2010-08-09 00:00:00",
         "8",
         "19"
        ],
        [
         "304",
         "4",
         "99",
         "2010-02-15 00:00:00",
         "2012-10-08 00:00:00",
         "42",
         "97"
        ],
        [
         "321",
         "5",
         "18",
         "2010-02-01 00:00:00",
         "2012-10-22 00:00:00",
         "100",
         "43"
        ],
        [
         "322",
         "5",
         "19",
         "2010-02-01 00:00:00",
         "2012-10-22 00:00:00",
         "57",
         "86"
        ],
        [
         "345",
         "5",
         "45",
         "2010-02-22 00:00:00",
         "2012-06-11 00:00:00",
         "69",
         "52"
        ],
        [
         "347",
         "5",
         "47",
         "2010-02-08 00:00:00",
         "2012-02-13 00:00:00",
         "11",
         "95"
        ],
        [
         "349",
         "5",
         "51",
         "2010-02-08 00:00:00",
         "2010-10-25 00:00:00",
         "5",
         "33"
        ],
        [
         "351",
         "5",
         "54",
         "2010-02-01 00:00:00",
         "2012-10-08 00:00:00",
         "98",
         "43"
        ],
        [
         "354",
         "5",
         "58",
         "2010-02-01 00:00:00",
         "2012-10-22 00:00:00",
         "119",
         "24"
        ],
        [
         "355",
         "5",
         "59",
         "2010-02-01 00:00:00",
         "2012-10-15 00:00:00",
         "103",
         "39"
        ],
        [
         "361",
         "5",
         "77",
         "2011-11-21 00:00:00",
         "2011-12-26 00:00:00",
         "2",
         "4"
        ]
       ],
       "shape": {
        "columns": 6,
        "rows": 605
       }
      },
      "text/html": [
       "<div>\n",
       "<style scoped>\n",
       "    .dataframe tbody tr th:only-of-type {\n",
       "        vertical-align: middle;\n",
       "    }\n",
       "\n",
       "    .dataframe tbody tr th {\n",
       "        vertical-align: top;\n",
       "    }\n",
       "\n",
       "    .dataframe thead th {\n",
       "        text-align: right;\n",
       "    }\n",
       "</style>\n",
       "<table border=\"1\" class=\"dataframe\">\n",
       "  <thead>\n",
       "    <tr style=\"text-align: right;\">\n",
       "      <th></th>\n",
       "      <th>store</th>\n",
       "      <th>dept</th>\n",
       "      <th>min</th>\n",
       "      <th>max</th>\n",
       "      <th>nunique</th>\n",
       "      <th>date_miss</th>\n",
       "    </tr>\n",
       "  </thead>\n",
       "  <tbody>\n",
       "    <tr>\n",
       "      <th>16</th>\n",
       "      <td>1</td>\n",
       "      <td>18</td>\n",
       "      <td>2010-02-01</td>\n",
       "      <td>2012-10-22</td>\n",
       "      <td>113</td>\n",
       "      <td>30</td>\n",
       "    </tr>\n",
       "    <tr>\n",
       "      <th>41</th>\n",
       "      <td>1</td>\n",
       "      <td>45</td>\n",
       "      <td>2010-02-01</td>\n",
       "      <td>2012-10-22</td>\n",
       "      <td>71</td>\n",
       "      <td>72</td>\n",
       "    </tr>\n",
       "    <tr>\n",
       "      <th>43</th>\n",
       "      <td>1</td>\n",
       "      <td>47</td>\n",
       "      <td>2010-02-01</td>\n",
       "      <td>2012-09-24</td>\n",
       "      <td>22</td>\n",
       "      <td>117</td>\n",
       "    </tr>\n",
       "    <tr>\n",
       "      <th>44</th>\n",
       "      <td>1</td>\n",
       "      <td>48</td>\n",
       "      <td>2010-02-01</td>\n",
       "      <td>2012-10-22</td>\n",
       "      <td>125</td>\n",
       "      <td>18</td>\n",
       "    </tr>\n",
       "    <tr>\n",
       "      <th>46</th>\n",
       "      <td>1</td>\n",
       "      <td>51</td>\n",
       "      <td>2010-02-01</td>\n",
       "      <td>2010-10-11</td>\n",
       "      <td>33</td>\n",
       "      <td>4</td>\n",
       "    </tr>\n",
       "    <tr>\n",
       "      <th>...</th>\n",
       "      <td>...</td>\n",
       "      <td>...</td>\n",
       "      <td>...</td>\n",
       "      <td>...</td>\n",
       "      <td>...</td>\n",
       "      <td>...</td>\n",
       "    </tr>\n",
       "    <tr>\n",
       "      <th>3314</th>\n",
       "      <td>45</td>\n",
       "      <td>78</td>\n",
       "      <td>2010-02-08</td>\n",
       "      <td>2011-07-11</td>\n",
       "      <td>8</td>\n",
       "      <td>67</td>\n",
       "    </tr>\n",
       "    <tr>\n",
       "      <th>3316</th>\n",
       "      <td>45</td>\n",
       "      <td>80</td>\n",
       "      <td>2010-02-01</td>\n",
       "      <td>2012-10-22</td>\n",
       "      <td>130</td>\n",
       "      <td>13</td>\n",
       "    </tr>\n",
       "    <tr>\n",
       "      <th>3326</th>\n",
       "      <td>45</td>\n",
       "      <td>94</td>\n",
       "      <td>2010-02-08</td>\n",
       "      <td>2012-10-22</td>\n",
       "      <td>134</td>\n",
       "      <td>8</td>\n",
       "    </tr>\n",
       "    <tr>\n",
       "      <th>3328</th>\n",
       "      <td>45</td>\n",
       "      <td>96</td>\n",
       "      <td>2012-03-12</td>\n",
       "      <td>2012-09-10</td>\n",
       "      <td>2</td>\n",
       "      <td>25</td>\n",
       "    </tr>\n",
       "    <tr>\n",
       "      <th>3330</th>\n",
       "      <td>45</td>\n",
       "      <td>98</td>\n",
       "      <td>2010-02-01</td>\n",
       "      <td>2012-10-22</td>\n",
       "      <td>135</td>\n",
       "      <td>8</td>\n",
       "    </tr>\n",
       "  </tbody>\n",
       "</table>\n",
       "<p>605 rows × 6 columns</p>\n",
       "</div>"
      ],
      "text/plain": [
       "      store  dept        min        max  nunique  date_miss\n",
       "16        1    18 2010-02-01 2012-10-22      113         30\n",
       "41        1    45 2010-02-01 2012-10-22       71         72\n",
       "43        1    47 2010-02-01 2012-09-24       22        117\n",
       "44        1    48 2010-02-01 2012-10-22      125         18\n",
       "46        1    51 2010-02-01 2010-10-11       33          4\n",
       "...     ...   ...        ...        ...      ...        ...\n",
       "3314     45    78 2010-02-08 2011-07-11        8         67\n",
       "3316     45    80 2010-02-01 2012-10-22      130         13\n",
       "3326     45    94 2010-02-08 2012-10-22      134          8\n",
       "3328     45    96 2012-03-12 2012-09-10        2         25\n",
       "3330     45    98 2010-02-01 2012-10-22      135          8\n",
       "\n",
       "[605 rows x 6 columns]"
      ]
     },
     "execution_count": 49,
     "metadata": {},
     "output_type": "execute_result"
    }
   ],
   "source": [
    "# 各時間系列はすべて連続していますか\n",
    "df['week'] = pd.to_datetime( df['week'] )\n",
    "date_summary = df.groupby(['store','dept'])['week'].agg(['min','max','nunique']).reset_index()\n",
    "date_summary['date_miss'] = (date_summary['max'] - date_summary['min']).dt.days//7+1 - date_summary['nunique']\n",
    "date_summary[ date_summary['date_miss']>0 ]"
   ]
  },
  {
   "cell_type": "markdown",
   "id": "797b91ca",
   "metadata": {},
   "source": [
    "605本の時間系列が連続していません。"
   ]
  }
 ],
 "metadata": {
  "kernelspec": {
   "display_name": "Python 3",
   "language": "python",
   "name": "python3"
  },
  "language_info": {
   "codemirror_mode": {
    "name": "ipython",
    "version": 3
   },
   "file_extension": ".py",
   "mimetype": "text/x-python",
   "name": "python",
   "nbconvert_exporter": "python",
   "pygments_lexer": "ipython3",
   "version": "3.11.9"
  }
 },
 "nbformat": 4,
 "nbformat_minor": 5
}
